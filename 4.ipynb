{
 "cells": [
  {
   "cell_type": "code",
   "execution_count": 3,
   "id": "00db604d",
   "metadata": {},
   "outputs": [
    {
     "name": "stdout",
     "output_type": "stream",
     "text": [
      "    outlook temperature humidity    wind class\n",
      "0     sunny        high     high    weak    no\n",
      "1     sunny        high     high  strong    no\n",
      "2  overcast        high     high    weak   yes\n",
      "3      rain        mild     high    weak   yes\n",
      "4      rain        cool   normal    weak   yes\n",
      " \n",
      "Display Tree\n",
      " {'outlook': {'overcast': 'yes', 'rain': {'wind': {'strong': 'no', 'weak': 'yes'}}, 'sunny': {'humidity': {'high': 'no', 'normal': 'yes'}}}}\n"
     ]
    }
   ],
   "source": [
    "import pandas as pd\n",
    "import numpy as np\n",
    "\n",
    "\n",
    "dataset = pd.read_csv('4.csv',names=['outlook','temperature','humidity','wind','class'])\n",
    "attributes = ('outlook','temperature','humidity','wind','playtennis')\n",
    "\n",
    "def entropy(target_col):\n",
    "    elements,counts = np.unique(target_col, return_counts=True)\n",
    "    entropy = np.sum([(-counts[i]/np.sum(counts))*np.log2(counts[i]/np.sum(counts)) for i in range(len(elements))])\n",
    "    return entropy\n",
    "\n",
    "def InfoGain(data,split_attribute_name, target_name=\"class\"):\n",
    "    total_entropy = entropy(data[target_name])\n",
    "    val,counts = np.unique(data[split_attribute_name],return_counts=True) \n",
    "    weighted_Entropy = np.sum([(counts[i]/np.sum(counts))*entropy(data.where(data[split_attribute_name]==val[i]).dropna()[target_name]) for i in range(len(val))])\n",
    "    Information_Gain = total_entropy - weighted_Entropy\n",
    "    return Information_Gain\n",
    "\n",
    "def ID3(data, originaldata, features, target_attribute_name=\"class\",parent_node_class=None):\n",
    "    if len(np.unique(data[target_attribute_name]))<=1:\n",
    "        return np.unique(data[target_attribute_name])[0]\n",
    "    elif len(data)==0:\n",
    "        return np.unique(originaldata[target_attribute_name])[np.argmax(np.unique(originaldata[target_attribute_name], return_counts=True)(1))]\n",
    "    elif len(features)==0:\n",
    "        return parent_node_class\n",
    "    else:\n",
    "        parent_node_class = np.unique(data[target_attribute_name])[np.argmax(np.unique(data[target_attribute_name],return_counts=True)[1])]\n",
    "        item_values = [InfoGain(data,feature,target_attribute_name) for feature in features]\n",
    "        best_feature_index = np.argmax(item_values)\n",
    "        best_feature = features[best_feature_index]\n",
    "        tree = {best_feature:{}}\n",
    "        features = [i for i in features if i != best_feature]\n",
    "        for value in np.unique(data[best_feature]):\n",
    "            value = value\n",
    "            sub_data = data.where(data[best_feature]==value).dropna()\n",
    "            subtree = ID3(sub_data, dataset,features, target_attribute_name, parent_node_class)\n",
    "            tree[best_feature][value]=subtree\n",
    "        return(tree)\n",
    "\n",
    "tree = ID3(dataset,dataset,dataset.columns[:-1])\n",
    "print(dataset.head())\n",
    "print(' \\nDisplay Tree\\n',tree)    \n"
   ]
  },
  {
   "cell_type": "code",
   "execution_count": null,
   "id": "dcca49cb",
   "metadata": {},
   "outputs": [],
   "source": []
  }
 ],
 "metadata": {
  "kernelspec": {
   "display_name": "Python 3 (ipykernel)",
   "language": "python",
   "name": "python3"
  },
  "language_info": {
   "codemirror_mode": {
    "name": "ipython",
    "version": 3
   },
   "file_extension": ".py",
   "mimetype": "text/x-python",
   "name": "python",
   "nbconvert_exporter": "python",
   "pygments_lexer": "ipython3",
   "version": "3.10.4"
  }
 },
 "nbformat": 4,
 "nbformat_minor": 5
}
